{
  "cells": [
    {
      "cell_type": "markdown",
      "metadata": {
        "id": "bfFgwnX8QZGS"
      },
      "source": [
        "## Add memory to the same agent\n",
        "\n",
        "In order to add memory to the agent we previously built, we will need to:\n",
        "-  First, compile the graph with a checkpointer.\n",
        "-  Second, pass a `config` object to the graph that indicated which thread it is running on."
      ]
    },
    {
      "cell_type": "code",
      "execution_count": null,
      "metadata": {
        "id": "U4R3x2ijQZGV"
      },
      "outputs": [],
      "source": [
        "# If you want to execute this one in VScode then either create a .env file with property as below\n",
        "# OPENAI_API_KEY=put your openai key here\n",
        "# from dotenv import load_dotenv\n",
        "# load_dotenv()\n",
        "\n",
        "#then create a virtual env and install:\n",
        "# pip install langgraph langchain langchain-openai python-dotenv\n",
        "\n",
        "#If you want to run google colab:\n",
        "import os\n",
        "os.environ[\"OPENAI_API_KEY\"] = \"put your key here\"\n",
        "#pip install langgraph langchain langchain-openai python-dotenv"
      ]
    },
    {
      "cell_type": "code",
      "execution_count": null,
      "metadata": {
        "id": "EpYz4X_SQZGW",
        "outputId": "d4afc5b6-e4af-4b35-ef88-3ab7f61b0a6a"
      },
      "outputs": [
        {
          "data": {
            "image/png": "[encoded data removed]",
            "text/plain": [
              "<IPython.core.display.Image object>"
            ]
          },
          "metadata": {},
          "output_type": "display_data"
        }
      ],
      "source": [
        "from IPython.display import Image, display\n",
        "from langgraph.graph import StateGraph, START, END\n",
        "from langgraph.graph import MessagesState\n",
        "from langgraph.prebuilt import ToolNode, tools_condition\n",
        "from langchain_openai import ChatOpenAI\n",
        "\n",
        "# define our tools\n",
        "def multiply(a: float, b: float) -> float:\n",
        "    \"\"\"\n",
        "    Multiply two numbers\n",
        "\n",
        "    Args:\n",
        "    a: The first number\n",
        "    b: The second number\n",
        "    \"\"\"\n",
        "    return a * b\n",
        "\n",
        "def sum(a: float, b: float) -> float:\n",
        "    \"\"\"\n",
        "    Sum two numbers\n",
        "\n",
        "    Args:\n",
        "    a: The first number\n",
        "    b: The second number\n",
        "    \"\"\"\n",
        "    return a + b\n",
        "\n",
        "tools = [multiply, sum]\n",
        "\n",
        "# define our llm and bind the tools\n",
        "llm = ChatOpenAI(model=\"gpt-4o-mini\")\n",
        "llm_with_tools = llm.bind_tools(tools)\n",
        "\n",
        "# node\n",
        "def llm_node(state: MessagesState):\n",
        "    response = llm_with_tools.invoke(state[\"messages\"])\n",
        "    return {\"messages\": [response]}\n",
        "\n",
        "# Build graph\n",
        "builder = StateGraph(MessagesState)\n",
        "builder.add_node(\"llm_node\", llm_node)\n",
        "builder.add_node(\"tools\", ToolNode(tools))\n",
        "\n",
        "builder.add_edge(START, \"llm_node\")\n",
        "builder.add_conditional_edges(\"llm_node\", tools_condition)\n",
        "builder.add_edge(\"tools\", \"llm_node\")\n",
        "\n",
        "graph = builder.compile()\n",
        "\n",
        "# mermaid graph\n",
        "display(Image(graph.get_graph().draw_mermaid_png()))\n"
      ]
    },
    {
      "cell_type": "code",
      "execution_count": null,
      "metadata": {
        "id": "jsfJSizX4mnX"
      },
      "outputs": [],
      "source": [
        "r = llm.invoke(\"123213456*498673\")"
      ]
    },
    {
      "cell_type": "code",
      "execution_count": null,
      "metadata": {
        "id": "C2oWYpDx4mnX",
        "outputId": "bd64a49b-2236-443b-c331-863d2fe89d69"
      },
      "outputs": [
        {
          "name": "stdout",
          "output_type": "stream",
          "text": [
            "content='The product of 123213456 and 498673 is 61,407,501,048.' additional_kwargs={'refusal': None} response_metadata={'token_usage': {'completion_tokens': 21, 'prompt_tokens': 13, 'total_tokens': 34, 'completion_tokens_details': {'accepted_prediction_tokens': 0, 'audio_tokens': 0, 'reasoning_tokens': 0, 'rejected_prediction_tokens': 0}, 'prompt_tokens_details': {'audio_tokens': 0, 'cached_tokens': 0}}, 'model_name': 'gpt-4o-mini-2024-07-18', 'system_fingerprint': 'fp_51db84afab', 'id': 'chatcmpl-CMaenwecAkGQ3Wj2qLrswd1WGlzVF', 'service_tier': 'default', 'finish_reason': 'stop', 'logprobs': None} id='run--b139399e-8d65-41dc-9452-414f5e1ee372-0' usage_metadata={'input_tokens': 13, 'output_tokens': 21, 'total_tokens': 34, 'input_token_details': {'audio': 0, 'cache_read': 0}, 'output_token_details': {'audio': 0, 'reasoning': 0}}\n"
          ]
        }
      ],
      "source": [
        "print(r)"
      ]
    },
    {
      "cell_type": "code",
      "execution_count": null,
      "metadata": {
        "id": "d6R-aJP3QZGX"
      },
      "outputs": [],
      "source": [
        "# we compile the graph, but this time, we will use the MemorySaver checkpointer\n",
        "\n",
        "from langgraph.checkpoint.memory import MemorySaver\n",
        "memory = MemorySaver()\n",
        "graph_with_memory = builder.compile(checkpointer=memory)"
      ]
    },
    {
      "cell_type": "code",
      "execution_count": null,
      "metadata": {
        "id": "HepDqfbmQZGX"
      },
      "outputs": [],
      "source": [
        "from langchain_core.messages import HumanMessage\n",
        "\n",
        "messages = [HumanMessage(content=\"What is 827043 times 16458?\")]\n",
        "\n",
        "# this will not work beacuse we now need a chekpointer\n",
        "# react_graph_memory.invoke({\"messages\": messages})\n",
        "\n",
        "THREAD_ID = \"1\"\n",
        "\n",
        "result = graph_with_memory.invoke(\n",
        "    {\"messages\": messages},\n",
        "    config= {\n",
        "      \"configurable\": {\"thread_id\": THREAD_ID}\n",
        "    }\n",
        "  )"
      ]
    },
    {
      "cell_type": "code",
      "execution_count": null,
      "metadata": {
        "id": "Dsx1ve69QZGY",
        "outputId": "85628486-55f9-4974-cda5-d69ee63a052b"
      },
      "outputs": [
        {
          "name": "stdout",
          "output_type": "stream",
          "text": [
            "================================\u001b[1m Human Message \u001b[0m=================================\n",
            "\n",
            "What is 827043 times 16458?\n",
            "==================================\u001b[1m Ai Message \u001b[0m==================================\n",
            "Tool Calls:\n",
            "  multiply (call_vO0NrWZ3Jc3lw1PJdDqjZQSw)\n",
            " Call ID: call_vO0NrWZ3Jc3lw1PJdDqjZQSw\n",
            "  Args:\n",
            "    a: 827043\n",
            "    b: 16458\n",
            "=================================\u001b[1m Tool Message \u001b[0m=================================\n",
            "Name: multiply\n",
            "\n",
            "13611473694.0\n",
            "==================================\u001b[1m Ai Message \u001b[0m==================================\n",
            "\n",
            "827043 times 16458 is 13,611,473,694.\n"
          ]
        }
      ],
      "source": [
        "for m in result[\"messages\"]:\n",
        "    m.pretty_print()"
      ]
    },
    {
      "cell_type": "code",
      "execution_count": null,
      "metadata": {
        "id": "xVuuLdmDQZGY"
      },
      "outputs": [],
      "source": [
        "messages = [HumanMessage(content=\"Add 6 to that\")]\n",
        "\n",
        "result = graph_with_memory.invoke(\n",
        "    {\"messages\": messages},\n",
        "    config= {\n",
        "      \"configurable\": {\"thread_id\": THREAD_ID}\n",
        "    }\n",
        "  )"
      ]
    },
    {
      "cell_type": "code",
      "execution_count": null,
      "metadata": {
        "id": "vFkcAgMwQZGY",
        "outputId": "29e79a51-27ad-4d46-c6e7-e9154e3ad89b"
      },
      "outputs": [
        {
          "name": "stdout",
          "output_type": "stream",
          "text": [
            "================================\u001b[1m Human Message \u001b[0m=================================\n",
            "\n",
            "What is 827043 times 16458?\n",
            "==================================\u001b[1m Ai Message \u001b[0m==================================\n",
            "Tool Calls:\n",
            "  multiply (call_vO0NrWZ3Jc3lw1PJdDqjZQSw)\n",
            " Call ID: call_vO0NrWZ3Jc3lw1PJdDqjZQSw\n",
            "  Args:\n",
            "    a: 827043\n",
            "    b: 16458\n",
            "=================================\u001b[1m Tool Message \u001b[0m=================================\n",
            "Name: multiply\n",
            "\n",
            "13611473694.0\n",
            "==================================\u001b[1m Ai Message \u001b[0m==================================\n",
            "\n",
            "827043 times 16458 is 13,611,473,694.\n",
            "================================\u001b[1m Human Message \u001b[0m=================================\n",
            "\n",
            "Add 6 to that\n",
            "==================================\u001b[1m Ai Message \u001b[0m==================================\n",
            "Tool Calls:\n",
            "  sum (call_HGCMbZwbY90qNdEGqEhj2wX9)\n",
            " Call ID: call_HGCMbZwbY90qNdEGqEhj2wX9\n",
            "  Args:\n",
            "    a: 13611473694\n",
            "    b: 6\n",
            "=================================\u001b[1m Tool Message \u001b[0m=================================\n",
            "Name: sum\n",
            "\n",
            "13611473700.0\n",
            "==================================\u001b[1m Ai Message \u001b[0m==================================\n",
            "\n",
            "Adding 6 to 13,611,473,694 gives you 13,611,473,700.\n"
          ]
        }
      ],
      "source": [
        "for m in result[\"messages\"]:\n",
        "    m.pretty_print()"
      ]
    },
    {
      "cell_type": "code",
      "execution_count": null,
      "metadata": {
        "id": "IYGZGdUw4mnY"
      },
      "outputs": [],
      "source": []
    },
    {
      "cell_type": "code",
      "execution_count": null,
      "metadata": {
        "id": "QkJYFIeE4mnY"
      },
      "outputs": [],
      "source": [
        "messages = [HumanMessage(content=\"Add 6 to that\")]\n",
        "\n",
        "result = graph_with_memory.invoke(\n",
        "    {\"messages\": messages},\n",
        "    config= {\n",
        "      \"configurable\": {\"thread_id\": THREAD_ID}\n",
        "    }\n",
        "  )"
      ]
    },
    {
      "cell_type": "code",
      "execution_count": null,
      "metadata": {
        "id": "bUG8lPod4mnY"
      },
      "outputs": [],
      "source": [
        "messages = [HumanMessage(content=\"Add 6 to that\")]\n",
        "\n",
        "result = graph_with_memory.invoke(\n",
        "    {\"messages\": messages},\n",
        "    config= {\n",
        "      \"configurable\": {\"thread_id\": 2}\n",
        "    }\n",
        "  )"
      ]
    },
    {
      "cell_type": "code",
      "execution_count": null,
      "metadata": {
        "id": "GeOtGZX24mnZ",
        "outputId": "25bc9f88-8813-4e85-f389-5ac571557236"
      },
      "outputs": [
        {
          "name": "stdout",
          "output_type": "stream",
          "text": [
            "================================\u001b[1m Human Message \u001b[0m=================================\n",
            "\n",
            "Add 6 to that\n",
            "==================================\u001b[1m Ai Message \u001b[0m==================================\n",
            "\n",
            "Could you please provide the number you would like to add 6 to?\n"
          ]
        }
      ],
      "source": [
        "for m in result[\"messages\"]:\n",
        "    m.pretty_print()"
      ]
    },
    {
      "cell_type": "code",
      "execution_count": null,
      "metadata": {
        "id": "ODivvzcK4mnZ"
      },
      "outputs": [],
      "source": []
    },
    {
      "cell_type": "markdown",
      "metadata": {
        "id": "uv3Z2IykQZGZ"
      },
      "source": [
        "## Summary-based memory in chatbot\n",
        "\n",
        "Great! Now, let's create a chatbot that can have multiple conversations and remember them. This agent will summarize the conversation messages and send this summary to the agent along with the latest two messages. The agent will then use this information to generate a response.\n",
        "\n",
        "This will allow you to use LLMs to have longer conversations without having to spend a lot of tokens.\n",
        "\n",
        "This is getting closer to something that could power an app like ChatGPT. Let's get started!"
      ]
    },
    {
      "cell_type": "code",
      "execution_count": null,
      "metadata": {
        "id": "OboWh5YVQZGZ"
      },
      "outputs": [],
      "source": [
        "# update the MessageState to include a summary key\n",
        "\n",
        "from langgraph.graph import MessagesState\n",
        "\n",
        "class State(MessagesState):\n",
        "    summary: str"
      ]
    },
    {
      "cell_type": "code",
      "execution_count": null,
      "metadata": {
        "id": "bqdTw4_0QZGZ"
      },
      "outputs": [],
      "source": [
        "from langchain_openai import ChatOpenAI\n",
        "from langchain_core.messages import SystemMessage, HumanMessage, RemoveMessage\n",
        "from langgraph.graph import END\n",
        "\n",
        "llm = ChatOpenAI(model=\"gpt-4o-mini\")\n",
        "\n",
        "# define 2 nodes: chat and summarize_conversation\n",
        "\n",
        "def chat(state: State):\n",
        "    summary = state.get(\"summary\", \"\")\n",
        "    if summary:\n",
        "        system_prompt = f\"Here is the summary of the conversation earlier: {summary}\"\n",
        "        messages = [SystemMessage(content=system_prompt)] + state[\"messages\"]\n",
        "    else:\n",
        "        messages = state[\"messages\"]\n",
        "\n",
        "    response = llm.invoke(messages)\n",
        "    return {\"messages\": [response]}\n",
        "\n",
        "def summarize_conversation(state: State):\n",
        "    summary = state.get(\"summary\", \"\")\n",
        "    if summary:\n",
        "        summary_prompt = f\"\"\"\n",
        "        This is a summary of the conversation up to this point: {summary}.\\n\\n\n",
        "        Extend the summary by taking into account the latest messages above.\n",
        "        \"\"\"\n",
        "    else:\n",
        "        summary_prompt = \"Create a summary of the conversation up to this point.\"\n",
        "\n",
        "    messages = state[\"messages\"] + [HumanMessage(content=summary_prompt)]\n",
        "    response = llm.invoke(messages)\n",
        "\n",
        "    delete_messages = [RemoveMessage(id=m.id) for m in state[\"messages\"][:-2]]\n",
        "    return {\"summary\": response.content, \"messages\": delete_messages}\n",
        "\n",
        "# conditional edge that sends to summary only of more than 6 messages\n",
        "def should_summarize(state: State):\n",
        "    \"\"\"\n",
        "    Check if we should summarize the conversation.\n",
        "    \"\"\"\n",
        "    messages = state[\"messages\"]\n",
        "    if len(messages) > 6:\n",
        "        return \"summarize_conversation\"\n",
        "    return END\n"
      ]
    },
    {
      "cell_type": "code",
      "execution_count": null,
      "metadata": {
        "id": "QfnWHRTXQZGZ",
        "outputId": "7e9fd3a9-3ee1-4e93-b4c8-fab30930c7ff"
      },
      "outputs": [
        {
          "data": {
            "image/png": "[encoded data removed]",
            "text/plain": [
              "<IPython.core.display.Image object>"
            ]
          },
          "metadata": {},
          "output_type": "display_data"
        }
      ],
      "source": [
        "from IPython.display import Image, display\n",
        "from langgraph.checkpoint.memory import MemorySaver\n",
        "from langgraph.graph import StateGraph, START, END\n",
        "\n",
        "builder = StateGraph(State)\n",
        "builder.add_node(chat)\n",
        "builder.add_node(summarize_conversation)\n",
        "\n",
        "builder.add_edge(START, \"chat\")\n",
        "builder.add_conditional_edges(\"chat\", should_summarize)\n",
        "builder.add_edge(\"summarize_conversation\", END)\n",
        "\n",
        "memory = MemorySaver()\n",
        "graph = builder.compile(checkpointer=memory)\n",
        "display(Image(graph.get_graph().draw_mermaid_png()))\n",
        "\n",
        "\n"
      ]
    },
    {
      "cell_type": "code",
      "execution_count": null,
      "metadata": {
        "id": "IXrnDrgFQZGa",
        "outputId": "2cb6da4a-6289-494e-aa71-672c7f943bbd"
      },
      "outputs": [
        {
          "name": "stdout",
          "output_type": "stream",
          "text": [
            "================================\u001b[1m Human Message \u001b[0m=================================\n",
            "\n",
            "Hello, My name is Giovanni Giorgio, but everybody calls me Giorgio.\n",
            "==================================\u001b[1m Ai Message \u001b[0m==================================\n",
            "\n",
            "Hello, Giorgio! It's nice to meet you. How can I assist you today?\n"
          ]
        }
      ],
      "source": [
        "# think of a thread like a different conversation.\n",
        "# if this were to power chatGPT, each thread would be a different conversation\n",
        "\n",
        "THREAD_ID = \"1\"\n",
        "config = {\n",
        "    \"configurable\": {\"thread_id\": THREAD_ID}\n",
        "}\n",
        "\n",
        "input_message = HumanMessage(content=\"Hello, My name is Giovanni Giorgio, but everybody calls me Giorgio.\")\n",
        "result = graph.invoke({\"messages\": [input_message]}, config=config)\n",
        "for m in result[\"messages\"][-2:]:\n",
        "    m.pretty_print()\n",
        "\n",
        "\n"
      ]
    },
    {
      "cell_type": "code",
      "execution_count": null,
      "metadata": {
        "id": "zD2XhdC44mnZ",
        "outputId": "cc7fd5a6-ac48-4993-dfdc-9016d1432a61"
      },
      "outputs": [
        {
          "name": "stdout",
          "output_type": "stream",
          "text": [
            "================================\u001b[1m Human Message \u001b[0m=================================\n",
            "\n",
            "Hello, My name is Giovanni Giorgio, but everybody calls me Giorgio.\n",
            "==================================\u001b[1m Ai Message \u001b[0m==================================\n",
            "\n",
            "Hello, Giorgio! It's nice to meet you. How can I assist you today?\n",
            "================================\u001b[1m Human Message \u001b[0m=================================\n",
            "\n",
            "What is my name?\n",
            "==================================\u001b[1m Ai Message \u001b[0m==================================\n",
            "\n",
            "Your name is Giovanni Giorgio, but you go by Giorgio.\n"
          ]
        }
      ],
      "source": [
        "\n",
        "input_message = HumanMessage(content=\"What is my name?\")\n",
        "result = graph.invoke({\"messages\": [input_message]}, config=config)\n",
        "for m in result[\"messages\"]:\n",
        "    m.pretty_print()\n",
        "\n"
      ]
    },
    {
      "cell_type": "code",
      "execution_count": null,
      "metadata": {
        "id": "k9TIwvPt4mnZ",
        "outputId": "34414ca0-db63-4c58-92a2-5e3f52e70f43"
      },
      "outputs": [
        {
          "name": "stdout",
          "output_type": "stream",
          "text": [
            "================================\u001b[1m Human Message \u001b[0m=================================\n",
            "\n",
            "Hello, My name is Giovanni Giorgio, but everybody calls me Giorgio.\n",
            "==================================\u001b[1m Ai Message \u001b[0m==================================\n",
            "\n",
            "Hello, Giorgio! It's nice to meet you. How can I assist you today?\n",
            "================================\u001b[1m Human Message \u001b[0m=================================\n",
            "\n",
            "What is my name?\n",
            "==================================\u001b[1m Ai Message \u001b[0m==================================\n",
            "\n",
            "Your name is Giovanni Giorgio, but you go by Giorgio.\n",
            "================================\u001b[1m Human Message \u001b[0m=================================\n",
            "\n",
            "Do you know anything about me?\n",
            "==================================\u001b[1m Ai Message \u001b[0m==================================\n",
            "\n",
            "I don't have any personal information about you beyond what you've shared. If you'd like to tell me more about yourself or ask questions, feel free!\n"
          ]
        }
      ],
      "source": [
        "input_message = HumanMessage(content=\"Do you know anything about me?\")\n",
        "result = graph.invoke({\"messages\": [input_message]}, config=config)\n",
        "for m in result[\"messages\"]:\n",
        "    m.pretty_print()"
      ]
    },
    {
      "cell_type": "code",
      "execution_count": null,
      "metadata": {
        "id": "GlSz4BaiQZGa",
        "outputId": "b6028ab5-934a-42b3-ca0c-21c3f346633d"
      },
      "outputs": [
        {
          "data": {
            "text/plain": [
              "''"
            ]
          },
          "execution_count": 22,
          "metadata": {},
          "output_type": "execute_result"
        }
      ],
      "source": [
        "# summary is empty because len(messages) < 6\n",
        "\n",
        "graph.get_state(config).values.get(\"summary\", \"\")"
      ]
    },
    {
      "cell_type": "code",
      "execution_count": null,
      "metadata": {
        "id": "4UuHLaZ8QZGa",
        "outputId": "b79e1081-c86d-48f7-af86-71ecb7faddaf"
      },
      "outputs": [
        {
          "name": "stdout",
          "output_type": "stream",
          "text": [
            "================================\u001b[1m Human Message \u001b[0m=================================\n",
            "\n",
            "Hello, My name is Giovanni Giorgio, but everybody calls me Giorgio.\n",
            "==================================\u001b[1m Ai Message \u001b[0m==================================\n",
            "\n",
            "Hello, Giorgio! It's nice to meet you. How can I assist you today?\n",
            "================================\u001b[1m Human Message \u001b[0m=================================\n",
            "\n",
            "What is my name?\n",
            "==================================\u001b[1m Ai Message \u001b[0m==================================\n",
            "\n",
            "Your name is Giovanni Giorgio, but you go by Giorgio.\n",
            "================================\u001b[1m Human Message \u001b[0m=================================\n",
            "\n",
            "Do you know anything about me?\n",
            "==================================\u001b[1m Ai Message \u001b[0m==================================\n",
            "\n",
            "I don't have any personal information about you beyond what you've shared. If you'd like to tell me more about yourself or ask questions, feel free!\n"
          ]
        }
      ],
      "source": [
        "conversation_history = graph.get_state(config).values.get(\"messages\", [])\n",
        "for m in conversation_history:\n",
        "    m.pretty_print()"
      ]
    },
    {
      "cell_type": "code",
      "execution_count": null,
      "metadata": {
        "id": "02k5nXqsQZGb",
        "outputId": "a1321e7a-f599-4672-a8f9-605828caac26"
      },
      "outputs": [
        {
          "name": "stdout",
          "output_type": "stream",
          "text": [
            "================================\u001b[1m Human Message \u001b[0m=================================\n",
            "\n",
            "I am a musician and producer.\n",
            "==================================\u001b[1m Ai Message \u001b[0m==================================\n",
            "\n",
            "That’s great to hear, Giorgio! What kind of music do you create or produce, and do you have any specific projects you’re currently working on?\n"
          ]
        }
      ],
      "source": [
        "# the messages have been deleted\n",
        "\n",
        "new_message = HumanMessage(content=\"I am a musician and producer.\")\n",
        "result = graph.invoke({\"messages\": [new_message]}, config=config)\n",
        "for m in result[\"messages\"]:\n",
        "    m.pretty_print()"
      ]
    },
    {
      "cell_type": "code",
      "execution_count": null,
      "metadata": {
        "id": "V0TyzLdyQZGb",
        "outputId": "0a15a1fc-c46d-4f5f-8726-d15c81ca0d71"
      },
      "outputs": [
        {
          "name": "stdout",
          "output_type": "stream",
          "text": [
            "Sure! Here’s a summary of our conversation so far:\n",
            "\n",
            "- You introduced yourself as Giovanni Giorgio but mentioned that everyone calls you Giorgio.\n",
            "- I acknowledged your name and asked how I could assist you.\n",
            "- You asked me what your name was, and I confirmed it.\n",
            "- You inquired if I knew anything about you, and I stated that I only know what you've shared.\n",
            "- You shared that you are a musician and producer.\n",
            "- I expressed interest and asked what kind of music you create or produce, as well as if you have any current projects.\n",
            "\n",
            "Let me know if there's anything else you'd like to add or discuss!\n"
          ]
        }
      ],
      "source": [
        "# but we have a summary now\n",
        "\n",
        "print(graph.get_state(config).values.get(\"summary\", \"\"))"
      ]
    },
    {
      "cell_type": "code",
      "execution_count": null,
      "metadata": {
        "id": "lnFBN2POQZGb",
        "outputId": "63e6384c-3134-45c1-d98e-162db1579cee"
      },
      "outputs": [
        {
          "data": {
            "text/plain": [
              "{'messages': [HumanMessage(content='I am a musician and producer.', additional_kwargs={}, response_metadata={}, id='fff5e34a-393c-48f0-9443-ddb9ad82e6e6'),\n",
              "  AIMessage(content='That’s great to hear, Giorgio! What kind of music do you create or produce, and do you have any specific projects you’re currently working on?', additional_kwargs={'refusal': None}, response_metadata={'token_usage': {'completion_tokens': 31, 'prompt_tokens': 122, 'total_tokens': 153, 'completion_tokens_details': {'accepted_prediction_tokens': 0, 'audio_tokens': 0, 'reasoning_tokens': 0, 'rejected_prediction_tokens': 0}, 'prompt_tokens_details': {'audio_tokens': 0, 'cached_tokens': 0}}, 'model_name': 'gpt-4o-mini-2024-07-18', 'system_fingerprint': 'fp_560af6e559', 'id': 'chatcmpl-CMag6N6hp4VIDXVS1b4huBvl30bSE', 'service_tier': 'default', 'finish_reason': 'stop', 'logprobs': None}, id='run--e830fbc1-721e-4634-984d-151bf2fde232-0', usage_metadata={'input_tokens': 122, 'output_tokens': 31, 'total_tokens': 153, 'input_token_details': {'audio': 0, 'cache_read': 0}, 'output_token_details': {'audio': 0, 'reasoning': 0}}),\n",
              "  HumanMessage(content='I was born on April 26, 1940.', additional_kwargs={}, response_metadata={}, id='1d8a69a8-fc88-4d4c-80d4-d51e7544792b'),\n",
              "  AIMessage(content='That’s a significant date! It means you have a wealth of life experience and musical history to draw from. How has your journey in music evolved over the years?', additional_kwargs={'refusal': None}, response_metadata={'token_usage': {'completion_tokens': 33, 'prompt_tokens': 204, 'total_tokens': 237, 'completion_tokens_details': {'accepted_prediction_tokens': 0, 'audio_tokens': 0, 'reasoning_tokens': 0, 'rejected_prediction_tokens': 0}, 'prompt_tokens_details': {'audio_tokens': 0, 'cached_tokens': 0}}, 'model_name': 'gpt-4o-mini-2024-07-18', 'system_fingerprint': 'fp_560af6e559', 'id': 'chatcmpl-CMagANQtqNRLcldMDDbpSD0uyuWj8', 'service_tier': 'default', 'finish_reason': 'stop', 'logprobs': None}, id='run--cc2f7a0a-c5cb-4d33-93d0-c01c1fe6b75c-0', usage_metadata={'input_tokens': 204, 'output_tokens': 33, 'total_tokens': 237, 'input_token_details': {'audio': 0, 'cache_read': 0}, 'output_token_details': {'audio': 0, 'reasoning': 0}})],\n",
              " 'summary': \"Sure! Here’s a summary of our conversation so far:\\n\\n- You introduced yourself as Giovanni Giorgio but mentioned that everyone calls you Giorgio.\\n- I acknowledged your name and asked how I could assist you.\\n- You asked me what your name was, and I confirmed it.\\n- You inquired if I knew anything about you, and I stated that I only know what you've shared.\\n- You shared that you are a musician and producer.\\n- I expressed interest and asked what kind of music you create or produce, as well as if you have any current projects.\\n\\nLet me know if there's anything else you'd like to add or discuss!\"}"
            ]
          },
          "execution_count": 26,
          "metadata": {},
          "output_type": "execute_result"
        }
      ],
      "source": [
        "# let's add more messages\n",
        "\n",
        "new_message = HumanMessage(content=\"I was born on April 26, 1940.\")\n",
        "graph.invoke({\"messages\": [new_message]}, config=config)"
      ]
    },
    {
      "cell_type": "code",
      "execution_count": null,
      "metadata": {
        "id": "5qdbrmOeQZGb",
        "outputId": "eefacf65-506e-4830-de5b-71da90172462"
      },
      "outputs": [
        {
          "name": "stdout",
          "output_type": "stream",
          "text": [
            "================================\u001b[1m Human Message \u001b[0m=================================\n",
            "\n",
            "I am a musician and producer.\n",
            "==================================\u001b[1m Ai Message \u001b[0m==================================\n",
            "\n",
            "That’s great to hear, Giorgio! What kind of music do you create or produce, and do you have any specific projects you’re currently working on?\n",
            "================================\u001b[1m Human Message \u001b[0m=================================\n",
            "\n",
            "I was born on April 26, 1940.\n",
            "==================================\u001b[1m Ai Message \u001b[0m==================================\n",
            "\n",
            "That’s a significant date! It means you have a wealth of life experience and musical history to draw from. How has your journey in music evolved over the years?\n"
          ]
        }
      ],
      "source": [
        "for m in graph.get_state(config).values.get(\"messages\", []):\n",
        "    m.pretty_print()"
      ]
    },
    {
      "cell_type": "code",
      "execution_count": null,
      "metadata": {
        "id": "IK7MUMR5QZGb",
        "outputId": "ba698931-a597-43eb-c6c6-2255210e8f76"
      },
      "outputs": [
        {
          "name": "stdout",
          "output_type": "stream",
          "text": [
            "Sure! Here’s a summary of our conversation so far:\n",
            "\n",
            "- You introduced yourself as Giovanni Giorgio but mentioned that everyone calls you Giorgio.\n",
            "- I acknowledged your name and asked how I could assist you.\n",
            "- You asked me what your name was, and I confirmed it.\n",
            "- You inquired if I knew anything about you, and I stated that I only know what you've shared.\n",
            "- You shared that you are a musician and producer.\n",
            "- I expressed interest and asked what kind of music you create or produce, as well as if you have any current projects.\n",
            "\n",
            "Let me know if there's anything else you'd like to add or discuss!\n"
          ]
        }
      ],
      "source": [
        "print(graph.get_state(config).values.get(\"summary\", \"\"))\n"
      ]
    },
    {
      "cell_type": "code",
      "execution_count": null,
      "metadata": {
        "id": "sHOfLwDFQZGc"
      },
      "outputs": [],
      "source": []
    }
  ],
  "metadata": {
    "colab": {
      "provenance": []
    },
    "kernelspec": {
      "display_name": "venvagent",
      "language": "python",
      "name": "python3"
    },
    "language_info": {
      "codemirror_mode": {
        "name": "ipython",
        "version": 3
      },
      "file_extension": ".py",
      "mimetype": "text/x-python",
      "name": "python",
      "nbconvert_exporter": "python",
      "pygments_lexer": "ipython3",
      "version": "3.12.0"
    }
  },
  "nbformat": 4,
  "nbformat_minor": 0
}